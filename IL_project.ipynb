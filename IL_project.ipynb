{
  "nbformat": 4,
  "nbformat_minor": 0,
  "metadata": {
    "colab": {
      "name": "IL_project.ipynb",
      "provenance": [],
      "collapsed_sections": []
    },
    "kernelspec": {
      "name": "python3",
      "display_name": "Python 3"
    },
    "accelerator": "GPU"
  },
  "cells": [
    {
      "cell_type": "markdown",
      "metadata": {
        "id": "PMcqNXcqdAix",
        "colab_type": "text"
      },
      "source": [
        "usa medie con classi per creare exemplars\n"
      ]
    },
    {
      "cell_type": "markdown",
      "metadata": {
        "colab_type": "text",
        "id": "Xo0CaCx86994"
      },
      "source": [
        "**Import libraries**"
      ]
    },
    {
      "cell_type": "code",
      "metadata": {
        "colab_type": "code",
        "id": "Ry2xEpbl6999",
        "colab": {
          "base_uri": "https://localhost:8080/",
          "height": 75
        },
        "outputId": "0d6db1c2-a67e-43f5-f86e-1d3ec1c0b2e2"
      },
      "source": [
        "import torch\n",
        "import torch.nn as nn\n",
        "from torch.utils.data import DataLoader, ConcatDataset\n",
        "\n",
        "import torchvision\n",
        "from torchvision import datasets, models, transforms\n",
        "\n",
        "import numpy as np\n",
        "from tqdm import tqdm\n",
        "import random\n",
        "\n",
        "from data_loader import iCIFAR100\n",
        "from model import incrementalNet\n",
        "from iCarl import iCaRLNet\n",
        "from LF_iCarl import LFiCaRLNet\n",
        "\n",
        "from sklearn.metrics import confusion_matrix\n",
        "import seaborn as sn\n",
        "import pandas as pd\n",
        "import matplotlib.pyplot as plt\n",
        "#import modified_linear"
      ],
      "execution_count": 1,
      "outputs": [
        {
          "output_type": "stream",
          "text": [
            "/usr/local/lib/python3.6/dist-packages/statsmodels/tools/_testing.py:19: FutureWarning: pandas.util.testing is deprecated. Use the functions in the public API at pandas.testing instead.\n",
            "  import pandas.util.testing as tm\n"
          ],
          "name": "stderr"
        }
      ]
    },
    {
      "cell_type": "markdown",
      "metadata": {
        "colab_type": "text",
        "id": "vHu3DUPe69-P"
      },
      "source": [
        "**Prepare Dataset**"
      ]
    },
    {
      "cell_type": "code",
      "metadata": {
        "colab_type": "code",
        "id": "tDsVeSPF69-Q",
        "colab": {}
      },
      "source": [
        "train_transform = transforms.Compose([transforms.RandomCrop(32, padding=4),\n",
        "                                      transforms.RandomHorizontalFlip(),\n",
        "                                      transforms.ToTensor(),       # Turn PIL Image to torch.Tensor\n",
        "                                      transforms.Normalize((0.507, 0.487, 0.441), (0.267, 0.256, 0.276)) \n",
        "])\n",
        "eval_transform = transforms.Compose([transforms.ToTensor(),       # Turn PIL Image to torch.Tensor\n",
        "                                      transforms.Normalize((0.507, 0.487, 0.441), (0.267, 0.256, 0.276)) \n",
        "])"
      ],
      "execution_count": 2,
      "outputs": []
    },
    {
      "cell_type": "code",
      "metadata": {
        "colab_type": "code",
        "id": "Q-paXQC469-Z",
        "colab": {}
      },
      "source": [
        "random.seed(34)\n",
        "order = np.arange(0,100)\n",
        "random.shuffle(order)"
      ],
      "execution_count": 3,
      "outputs": []
    },
    {
      "cell_type": "markdown",
      "metadata": {
        "colab_type": "text",
        "id": "jPAxRxND69-f"
      },
      "source": [
        "LEARNING WITHOUT FORGETTING/FINETUNING\n",
        "\n"
      ]
    },
    {
      "cell_type": "code",
      "metadata": {
        "colab_type": "code",
        "id": "oYWBu_rm69-g",
        "colab": {}
      },
      "source": [
        "# BATCH_SIZE = 128\n",
        "# iNet = incrementalNet(10, 100, finetuning=True, verbose = False)\n",
        "# iNet.cuda()\n",
        "\n",
        "# conf_matrix_pred = []\n",
        "# conf_matrix_labels = []\n",
        "# for i in range(0,100,10):\n",
        "\n",
        "#   train_dataset = iCIFAR100(\"cifar-100\", classes=order[i:(i+10)],  train=True, download=True, transform=train_transform)\n",
        "#   test_dataset = iCIFAR100(\"cifar-100\", classes=order[0:(i+10)], train=False, transform=eval_transform)\n",
        "\n",
        "#   test_dataloader = DataLoader(test_dataset, batch_size=BATCH_SIZE, \n",
        "#                                shuffle=False, num_workers=4, drop_last=False)\n",
        "#   train_dataloader = DataLoader(train_dataset, batch_size=BATCH_SIZE, \n",
        "#                                 shuffle=False, num_workers=4, drop_last=False)\n",
        "\n",
        "#   iNet.update_representation(train_dataset, order)\n",
        "\n",
        "#   iNet.n_known += iNet.n_classes\n",
        "#   print (\"\\niCaRL classes: %d\" % iNet.n_known)\n",
        "\n",
        "#   total = 0.0\n",
        "#   correct = 0.0\n",
        "#   iNet.resnet.train(False)\n",
        "#   for images, labels in train_dataloader:\n",
        "#       images = images.to(device=\"cuda\")\n",
        "#       labels = labels.to(device=\"cuda\")\n",
        "#       preds = iNet.forward(images)\n",
        "#       _, preds = torch.max(preds.data, 1)\n",
        "#       #preds = torch.tensor([order[i] for i in preds]).cuda()\n",
        "#       total += labels.size(0)\n",
        "#       correct += (preds == labels.data).sum()\n",
        "#   accuracy = 100 * correct / total\n",
        "#   print('Train Accuracy: %.1f %%' % (accuracy))\n",
        "\n",
        "#   if iNet.finetuning:\n",
        "#     suf = 'finetuning.txt'\n",
        "#   else:\n",
        "#     suf = 'lwf.txt'\n",
        "\n",
        "#   with open(\"train_accuracy_\"+suf, \"a\") as f:\n",
        "#     f.write(str(accuracy.data)+\"\\n\")\n",
        "\n",
        "#   total = 0.0\n",
        "#   correct = 0.0\n",
        "#   for images, labels in test_dataloader:\n",
        "#       images = images.to(device=\"cuda\")\n",
        "#       labels = labels.to(device=\"cuda\")\n",
        "#       preds = iNet.forward(images)\n",
        "#       _, preds = torch.max(preds.data, 1)\n",
        "#       #preds = torch.tensor([order[i] for i in preds]).cuda()\n",
        "#       total += labels.size(0)\n",
        "#       correct += (preds == labels.data).sum()\n",
        "#       if iNet.n_known == 100:\n",
        "#         conf_matrix_pred += list(preds.data)\n",
        "#         conf_matrix_labels += list(labels.data)\n",
        "#   accuracy = 100 * correct / total\n",
        "#   print('Test Accuracy: %.1f %%\\n---------------' % (accuracy))\n",
        "#   with open(\"test_accuracy_\"+suf, \"a\") as f:\n",
        "#     f.write(str(accuracy.data)+\"\\n\")"
      ],
      "execution_count": 4,
      "outputs": []
    },
    {
      "cell_type": "markdown",
      "metadata": {
        "colab_type": "text",
        "id": "IWvUkaQt69-s"
      },
      "source": [
        "**ICARL**"
      ]
    },
    {
      "cell_type": "code",
      "metadata": {
        "colab_type": "code",
        "id": "CCeF0nmu69-t",
        "colab": {}
      },
      "source": [
        "# K = 2000 # number of exemplars\n",
        "# cl_name = 'trees'\n",
        "# loss_combination = 'bce+bce'\n",
        "\n",
        "\n",
        "# icarl = iCaRLNet(10, 100, eval_transform, loss=loss_combination, classifier_name=cl_name, verbose=False)\n",
        "# icarl.cuda()\n",
        "# BATCH_SIZE = 128\n",
        "\n",
        "# conf_matrix_pred = []\n",
        "# conf_matrix_labels = []\n",
        "# for i in range(0,100,10):\n",
        "  \n",
        "#   train_dataset = iCIFAR100(\"cifar-100\", classes=order[i:(i+10)],  train=True, download=True, transform=train_transform)\n",
        "#   test_dataset = iCIFAR100(\"cifar-100\", classes=order[0:(i+10)], train=False, transform=eval_transform)\n",
        "\n",
        "#   train_dataloader = DataLoader(train_dataset, batch_size=BATCH_SIZE, shuffle=False, num_workers=4)\n",
        "#   test_dataloader = DataLoader(test_dataset, batch_size=BATCH_SIZE, shuffle=False, num_workers=4)\n",
        "\n",
        "#   icarl.update_representation(train_dataset, order)\n",
        "\n",
        "#   icarl.n_known += icarl.n_classes\n",
        "#   m = int(K / icarl.n_known)\n",
        "\n",
        "#   # Compute centroids before exemplars reduction\n",
        "#   if cl_name == 'standard':\n",
        "#     icarl.compute_means_and_features(train_dataset)\n",
        "\n",
        "#   # Reduce exemplar sets for known classes\n",
        "#   icarl.reduce_exemplar_sets(m)\n",
        "  \n",
        "#   # Construct exemplar sets for new classes\n",
        "#   for y in tqdm(order[i:(i+10)], desc=\"Generating exemplars\"):\n",
        "#     images = train_dataset.get_image_class(y)\n",
        "#     icarl.construct_exemplar_set(images, m)\n",
        "\n",
        "#   # Compute features after exemplars construction\n",
        "#   if cl_name != 'standard':\n",
        "#     icarl.compute_means_and_features(train_dataset)\n",
        "\n",
        "  \n",
        "#   print (\"\\niCaRL classes: %d\" % icarl.n_known)\n",
        "\n",
        "#   total = 0.0\n",
        "#   correct = 0.0\n",
        "#   icarl.resnet.eval()\n",
        "#   for images, labels in train_dataloader:\n",
        "#       images = images.to(device=\"cuda\")\n",
        "#       preds = icarl.classify(images)\n",
        "#       total += labels.size(0)\n",
        "#       correct += (preds.data.cpu() == labels).sum()\n",
        "#   accuracy = 100 * correct / total\n",
        "#   print('Train Accuracy: %.3f %%' % (accuracy))\n",
        "#   with open(\"train_accuracy_iCaRL.txt\", \"a\") as f:\n",
        "#     f.write(str(accuracy.data)+\"\\n\")\n",
        "\n",
        "\n",
        "#   total = 0.0\n",
        "#   correct = 0.0\n",
        "#   icarl.resnet.eval()\n",
        "#   for images, labels in test_dataloader:\n",
        "#       images = images.to(device=\"cuda\")\n",
        "#       preds = icarl.classify(images)\n",
        "#       total += labels.size(0)\n",
        "#       correct += (preds.data.cpu() == labels).sum()\n",
        "#       if icarl.n_known == 100:\n",
        "#         conf_matrix_pred += list(preds.data)\n",
        "#         conf_matrix_labels += list(labels.data)\n",
        "#   accuracy = 100 * correct / total\n",
        "#   print('Test Accuracy: %.3f %%\\n---------------' % (accuracy))\n",
        "#   with open(\"test_accuracy_iCaRL.txt\", \"a\") as f:\n",
        "#     f.write(str(accuracy.data)+\"\\n\")"
      ],
      "execution_count": 5,
      "outputs": []
    },
    {
      "cell_type": "code",
      "metadata": {
        "id": "qUuz4LBFxEP3",
        "colab_type": "code",
        "colab": {
          "base_uri": "https://localhost:8080/",
          "height": 1000
        },
        "outputId": "ca3e59f6-506a-42d3-fcc2-73d6b446d229"
      },
      "source": [
        "K = 2000 # number of exemplars\n",
        "\n",
        "\n",
        "icarl = LFiCaRLNet(10, 100, eval_transform, verbose=False)\n",
        "icarl.cuda()\n",
        "BATCH_SIZE = 128\n",
        "\n",
        "conf_matrix_pred = []\n",
        "conf_matrix_labels = []\n",
        "for i in range(0,100,10):\n",
        "  \n",
        "  train_dataset = iCIFAR100(\"cifar-100\", classes=order[i:(i+10)],  train=True, download=True, transform=train_transform)\n",
        "  test_dataset = iCIFAR100(\"cifar-100\", classes=order[0:(i+10)], train=False, transform=eval_transform)\n",
        "\n",
        "  train_dataloader = DataLoader(train_dataset, batch_size=BATCH_SIZE, shuffle=False, num_workers=4)\n",
        "  test_dataloader = DataLoader(test_dataset, batch_size=BATCH_SIZE, shuffle=False, num_workers=4)\n",
        "\n",
        "  icarl.update_representation(train_dataset, order)\n",
        "\n",
        "  icarl.n_known += icarl.n_classes\n",
        "  m = int(K / icarl.n_known)\n",
        "\n",
        "  # Compute centroids before exemplars reduction\n",
        "  icarl.compute_means_and_features(train_dataset)\n",
        "\n",
        "  # Reduce exemplar sets for known classes\n",
        "  icarl.reduce_exemplar_sets(m)\n",
        "  \n",
        "  # Construct exemplar sets for new classes\n",
        "  for y in tqdm(order[i:(i+10)], desc=\"Generating exemplars\"):\n",
        "    images = train_dataset.get_image_class(y)\n",
        "    icarl.construct_exemplar_set(images, m)\n",
        "  \n",
        "  print (\"\\niCaRL classes: %d\" % icarl.n_known)\n",
        "\n",
        "  total = 0.0\n",
        "  correct = 0.0\n",
        "  icarl.resnet.eval()\n",
        "  for images, labels in train_dataloader:\n",
        "      images = images.to(device=\"cuda\")\n",
        "      preds = icarl.classify(images)\n",
        "      total += labels.size(0)\n",
        "      correct += (preds.data.cpu() == labels).sum()\n",
        "  accuracy = 100 * correct / total\n",
        "  print('Train Accuracy: %.3f %%' % (accuracy))\n",
        "  with open(\"train_accuracy_LF_iCaRL.txt\", \"a\") as f:\n",
        "    f.write(str(accuracy.data)+\"\\n\")\n",
        "\n",
        "\n",
        "  total = 0.0\n",
        "  correct = 0.0\n",
        "  icarl.resnet.eval()\n",
        "  for images, labels in test_dataloader:\n",
        "      images = images.to(device=\"cuda\")\n",
        "      preds = icarl.classify(images)\n",
        "      total += labels.size(0)\n",
        "      correct += (preds.data.cpu() == labels).sum()\n",
        "      if icarl.n_known == 100:\n",
        "        conf_matrix_pred += list(preds.data)\n",
        "        conf_matrix_labels += list(labels.data)\n",
        "  accuracy = 100 * correct / total\n",
        "  print('Test Accuracy: %.3f %%\\n---------------' % (accuracy))\n",
        "  with open(\"test_accuracy_LF_iCaRL.txt\", \"a\") as f:\n",
        "    f.write(str(accuracy.data)+\"\\n\")"
      ],
      "execution_count": 6,
      "outputs": [
        {
          "output_type": "stream",
          "text": [
            "Files already downloaded and verified\n"
          ],
          "name": "stdout"
        },
        {
          "output_type": "stream",
          "text": [
            "Training: 100%|██████████| 70/70 [03:12<00:00,  2.75s/it]\n",
            "Computing mean of classes: 100%|██████████| 10/10 [00:21<00:00,  2.12s/it]\n",
            "Generating exemplars: 100%|██████████| 10/10 [00:22<00:00,  2.26s/it]"
          ],
          "name": "stderr"
        },
        {
          "output_type": "stream",
          "text": [
            "\n",
            "iCaRL classes: 10\n"
          ],
          "name": "stdout"
        },
        {
          "output_type": "stream",
          "text": [
            "\n"
          ],
          "name": "stderr"
        },
        {
          "output_type": "stream",
          "text": [
            "Train Accuracy: 97.500 %\n",
            "Test Accuracy: 85.800 %\n",
            "---------------\n",
            "Files already downloaded and verified\n"
          ],
          "name": "stdout"
        },
        {
          "output_type": "stream",
          "text": [
            "Training: 100%|██████████| 70/70 [06:17<00:00,  5.39s/it]\n",
            "Computing mean of classes: 100%|██████████| 20/20 [00:30<00:00,  1.51s/it]\n",
            "Generating exemplars: 100%|██████████| 10/10 [00:22<00:00,  2.22s/it]"
          ],
          "name": "stderr"
        },
        {
          "output_type": "stream",
          "text": [
            "\n",
            "iCaRL classes: 20\n"
          ],
          "name": "stdout"
        },
        {
          "output_type": "stream",
          "text": [
            "\n"
          ],
          "name": "stderr"
        },
        {
          "output_type": "stream",
          "text": [
            "Train Accuracy: 99.857 %\n",
            "Test Accuracy: 79.800 %\n",
            "---------------\n",
            "Files already downloaded and verified\n"
          ],
          "name": "stdout"
        },
        {
          "output_type": "stream",
          "text": [
            "Training: 100%|██████████| 70/70 [06:16<00:00,  5.38s/it]\n",
            "Computing mean of classes: 100%|██████████| 30/30 [00:30<00:00,  1.01s/it]\n",
            "Generating exemplars: 100%|██████████| 10/10 [00:22<00:00,  2.22s/it]"
          ],
          "name": "stderr"
        },
        {
          "output_type": "stream",
          "text": [
            "\n",
            "iCaRL classes: 30\n"
          ],
          "name": "stdout"
        },
        {
          "output_type": "stream",
          "text": [
            "\n"
          ],
          "name": "stderr"
        },
        {
          "output_type": "stream",
          "text": [
            "Train Accuracy: 99.543 %\n",
            "Test Accuracy: 70.533 %\n",
            "---------------\n",
            "Files already downloaded and verified\n"
          ],
          "name": "stdout"
        },
        {
          "output_type": "stream",
          "text": [
            "Training: 100%|██████████| 70/70 [06:15<00:00,  5.36s/it]\n",
            "Computing mean of classes: 100%|██████████| 40/40 [00:28<00:00,  1.38it/s]\n",
            "Generating exemplars: 100%|██████████| 10/10 [00:21<00:00,  2.13s/it]"
          ],
          "name": "stderr"
        },
        {
          "output_type": "stream",
          "text": [
            "\n",
            "iCaRL classes: 40\n"
          ],
          "name": "stdout"
        },
        {
          "output_type": "stream",
          "text": [
            "\n"
          ],
          "name": "stderr"
        },
        {
          "output_type": "stream",
          "text": [
            "Train Accuracy: 99.011 %\n",
            "Test Accuracy: 63.500 %\n",
            "---------------\n",
            "Files already downloaded and verified\n"
          ],
          "name": "stdout"
        },
        {
          "output_type": "stream",
          "text": [
            "Training: 100%|██████████| 70/70 [06:15<00:00,  5.36s/it]\n",
            "Computing mean of classes: 100%|██████████| 50/50 [00:29<00:00,  1.72it/s]\n",
            "Generating exemplars: 100%|██████████| 10/10 [00:21<00:00,  2.11s/it]"
          ],
          "name": "stderr"
        },
        {
          "output_type": "stream",
          "text": [
            "\n",
            "iCaRL classes: 50\n"
          ],
          "name": "stdout"
        },
        {
          "output_type": "stream",
          "text": [
            "\n"
          ],
          "name": "stderr"
        },
        {
          "output_type": "stream",
          "text": [
            "Train Accuracy: 98.429 %\n",
            "Test Accuracy: 56.440 %\n",
            "---------------\n",
            "Files already downloaded and verified\n"
          ],
          "name": "stdout"
        },
        {
          "output_type": "stream",
          "text": [
            "Training: 100%|██████████| 70/70 [06:14<00:00,  5.35s/it]\n",
            "Computing mean of classes: 100%|██████████| 60/60 [00:28<00:00,  2.08it/s]\n",
            "Generating exemplars: 100%|██████████| 10/10 [00:20<00:00,  2.05s/it]"
          ],
          "name": "stderr"
        },
        {
          "output_type": "stream",
          "text": [
            "\n",
            "iCaRL classes: 60\n"
          ],
          "name": "stdout"
        },
        {
          "output_type": "stream",
          "text": [
            "\n"
          ],
          "name": "stderr"
        },
        {
          "output_type": "stream",
          "text": [
            "Train Accuracy: 97.771 %\n",
            "Test Accuracy: 53.800 %\n",
            "---------------\n",
            "Files already downloaded and verified\n"
          ],
          "name": "stdout"
        },
        {
          "output_type": "stream",
          "text": [
            "Training: 100%|██████████| 70/70 [06:11<00:00,  5.30s/it]\n",
            "Computing mean of classes: 100%|██████████| 70/70 [00:28<00:00,  2.49it/s]\n",
            "Generating exemplars: 100%|██████████| 10/10 [00:20<00:00,  2.03s/it]"
          ],
          "name": "stderr"
        },
        {
          "output_type": "stream",
          "text": [
            "\n",
            "iCaRL classes: 70\n"
          ],
          "name": "stdout"
        },
        {
          "output_type": "stream",
          "text": [
            "\n"
          ],
          "name": "stderr"
        },
        {
          "output_type": "stream",
          "text": [
            "Train Accuracy: 97.378 %\n",
            "Test Accuracy: 52.971 %\n",
            "---------------\n",
            "Files already downloaded and verified\n"
          ],
          "name": "stdout"
        },
        {
          "output_type": "stream",
          "text": [
            "Training: 100%|██████████| 70/70 [06:10<00:00,  5.29s/it]\n",
            "Computing mean of classes: 100%|██████████| 80/80 [00:28<00:00,  2.82it/s]\n",
            "Generating exemplars: 100%|██████████| 10/10 [00:20<00:00,  2.05s/it]"
          ],
          "name": "stderr"
        },
        {
          "output_type": "stream",
          "text": [
            "\n",
            "iCaRL classes: 80\n"
          ],
          "name": "stdout"
        },
        {
          "output_type": "stream",
          "text": [
            "\n"
          ],
          "name": "stderr"
        },
        {
          "output_type": "stream",
          "text": [
            "Train Accuracy: 95.603 %\n",
            "Test Accuracy: 49.600 %\n",
            "---------------\n",
            "Files already downloaded and verified\n"
          ],
          "name": "stdout"
        },
        {
          "output_type": "stream",
          "text": [
            "Training: 100%|██████████| 70/70 [06:11<00:00,  5.31s/it]\n",
            "Computing mean of classes: 100%|██████████| 90/90 [00:28<00:00,  3.16it/s]\n",
            "Generating exemplars: 100%|██████████| 10/10 [00:20<00:00,  2.03s/it]"
          ],
          "name": "stderr"
        },
        {
          "output_type": "stream",
          "text": [
            "\n",
            "iCaRL classes: 90\n"
          ],
          "name": "stdout"
        },
        {
          "output_type": "stream",
          "text": [
            "\n"
          ],
          "name": "stderr"
        },
        {
          "output_type": "stream",
          "text": [
            "Train Accuracy: 94.600 %\n",
            "Test Accuracy: 46.733 %\n",
            "---------------\n",
            "Files already downloaded and verified\n"
          ],
          "name": "stdout"
        },
        {
          "output_type": "stream",
          "text": [
            "Training: 100%|██████████| 70/70 [06:13<00:00,  5.33s/it]\n",
            "Computing mean of classes: 100%|██████████| 100/100 [00:28<00:00,  3.53it/s]\n",
            "Generating exemplars: 100%|██████████| 10/10 [00:20<00:00,  2.04s/it]"
          ],
          "name": "stderr"
        },
        {
          "output_type": "stream",
          "text": [
            "\n",
            "iCaRL classes: 100\n"
          ],
          "name": "stdout"
        },
        {
          "output_type": "stream",
          "text": [
            "\n"
          ],
          "name": "stderr"
        },
        {
          "output_type": "stream",
          "text": [
            "Train Accuracy: 93.195 %\n",
            "Test Accuracy: 44.440 %\n",
            "---------------\n"
          ],
          "name": "stdout"
        }
      ]
    },
    {
      "cell_type": "code",
      "metadata": {
        "colab_type": "code",
        "id": "Ph_VjOtpGHAY",
        "colab": {
          "base_uri": "https://localhost:8080/",
          "height": 828
        },
        "outputId": "c84ae365-7762-4cdb-b3e0-fd558772afec"
      },
      "source": [
        "array = confusion_matrix([list(order).index(i.item()) for i in conf_matrix_labels], [list(order).index(i.item()) for i in conf_matrix_pred])\n",
        "df_cm = pd.DataFrame(array, range(100), range(100))\n",
        "plt.figure(figsize = (20,14))\n",
        "sn.heatmap(df_cm) "
      ],
      "execution_count": 7,
      "outputs": [
        {
          "output_type": "execute_result",
          "data": {
            "text/plain": [
              "<matplotlib.axes._subplots.AxesSubplot at 0x7f7400fd5fd0>"
            ]
          },
          "metadata": {
            "tags": []
          },
          "execution_count": 7
        },
        {
          "output_type": "display_data",
          "data": {
            "image/png": "[encoded data removed]",
            "text/plain": [
              "<Figure size 1440x1008 with 2 Axes>"
            ]
          },
          "metadata": {
            "tags": [],
            "needs_background": "light"
          }
        }
      ]
    }
  ]
}